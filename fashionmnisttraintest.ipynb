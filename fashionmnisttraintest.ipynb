{
  "nbformat": 4,
  "nbformat_minor": 0,
  "metadata": {
    "colab": {
      "name": "fashionmnisttraintest.ipynb",
      "provenance": [],
      "collapsed_sections": [],
      "toc_visible": true,
      "history_visible": true,
      "authorship_tag": "ABX9TyNYhRQT492KRrxpdq6fLexE",
      "include_colab_link": true
    },
    "kernelspec": {
      "name": "python3",
      "display_name": "Python 3"
    },
    "accelerator": "GPU"
  },
  "cells": [
    {
      "cell_type": "markdown",
      "metadata": {
        "id": "view-in-github",
        "colab_type": "text"
      },
      "source": [
        "<a href=\"https://colab.research.google.com/github/mmachua/machine-learning-fashion-dataset-training/blob/main/fashionmnisttraintest.ipynb\" target=\"_parent\"><img src=\"https://colab.research.google.com/assets/colab-badge.svg\" alt=\"Open In Colab\"/></a>"
      ]
    },
    {
      "cell_type": "markdown",
      "metadata": {
        "id": "jKAsSB6dtK_3"
      },
      "source": [
        ""
      ]
    },
    {
      "cell_type": "markdown",
      "metadata": {
        "id": "YA_b_rIJtUHp"
      },
      "source": [
        "#fashion mnist data, "
      ]
    },
    {
      "cell_type": "code",
      "metadata": {
        "id": "rDhexdHGtl6V"
      },
      "source": [
        ""
      ],
      "execution_count": null,
      "outputs": []
    },
    {
      "cell_type": "markdown",
      "metadata": {
        "id": "sMwBdZAytlv4"
      },
      "source": [
        ""
      ]
    },
    {
      "cell_type": "markdown",
      "metadata": {
        "id": "gSXx2QhJtf9m"
      },
      "source": [
        "##import"
      ]
    },
    {
      "cell_type": "code",
      "metadata": {
        "id": "Yf-uEbSQtp2b"
      },
      "source": [
        "import tensorflow as tf\r\n",
        "import pandas as pd\r\n",
        "from tensorflow import keras\r\n",
        "import matplotlib.pyplot as plt\r\n"
      ],
      "execution_count": 1,
      "outputs": []
    },
    {
      "cell_type": "markdown",
      "metadata": {
        "id": "U9Ki4kN3te8P"
      },
      "source": [
        ""
      ]
    },
    {
      "cell_type": "code",
      "metadata": {
        "colab": {
          "base_uri": "https://localhost:8080/"
        },
        "id": "7z7_Axbxt7TI",
        "outputId": "2dbca1b6-d1a6-4178-bbc5-e5acc52b8e22"
      },
      "source": [
        "fashion_mnist = keras.datasets.fashion_mnist\r\n",
        "(X_train_full, y_train_full), (X_test, y_test) = fashion_mnist.load_data()"
      ],
      "execution_count": 2,
      "outputs": [
        {
          "output_type": "stream",
          "text": [
            "Downloading data from https://storage.googleapis.com/tensorflow/tf-keras-datasets/train-labels-idx1-ubyte.gz\n",
            "32768/29515 [=================================] - 0s 0us/step\n",
            "Downloading data from https://storage.googleapis.com/tensorflow/tf-keras-datasets/train-images-idx3-ubyte.gz\n",
            "26427392/26421880 [==============================] - 0s 0us/step\n",
            "Downloading data from https://storage.googleapis.com/tensorflow/tf-keras-datasets/t10k-labels-idx1-ubyte.gz\n",
            "8192/5148 [===============================================] - 0s 0us/step\n",
            "Downloading data from https://storage.googleapis.com/tensorflow/tf-keras-datasets/t10k-images-idx3-ubyte.gz\n",
            "4423680/4422102 [==============================] - 0s 0us/step\n"
          ],
          "name": "stdout"
        }
      ]
    },
    {
      "cell_type": "code",
      "metadata": {
        "id": "MWD0vK0-vOxm"
      },
      "source": [
        "X_train_full.shape\r\n",
        "X_train_full.dtype"
      ],
      "execution_count": null,
      "outputs": []
    },
    {
      "cell_type": "code",
      "metadata": {
        "id": "shBVk-_rvj0R"
      },
      "source": [
        "X_valid, X_train = X_train_full[:5000] / 255.0, X_train_full[5000:]/255.0\r\n"
      ],
      "execution_count": 7,
      "outputs": []
    },
    {
      "cell_type": "code",
      "metadata": {
        "id": "9syW4un9v-lE"
      },
      "source": [
        "y_valid, y_train = y_train_full[:5000], y_train_full[5000:]"
      ],
      "execution_count": 9,
      "outputs": []
    },
    {
      "cell_type": "code",
      "metadata": {
        "id": "2cKfp2fuwROO"
      },
      "source": [
        "class_names = ['T-shirt/top','trouser','pullover', 'dress','coat', 'sandals', 'shirt','sneakers', 'Bag',\r\n",
        "               'Ankle boot']"
      ],
      "execution_count": 11,
      "outputs": []
    },
    {
      "cell_type": "code",
      "metadata": {
        "colab": {
          "base_uri": "https://localhost:8080/",
          "height": 35
        },
        "id": "T24ezGnIw1cS",
        "outputId": "7e7b5a4d-80c3-4bef-e4e1-5fba75e94381"
      },
      "source": [
        "class_names[y_train[0]]\r\n"
      ],
      "execution_count": 12,
      "outputs": [
        {
          "output_type": "execute_result",
          "data": {
            "application/vnd.google.colaboratory.intrinsic+json": {
              "type": "string"
            },
            "text/plain": [
              "'coat'"
            ]
          },
          "metadata": {
            "tags": []
          },
          "execution_count": 12
        }
      ]
    },
    {
      "cell_type": "markdown",
      "metadata": {
        "id": "W7jhMLF_xHjP"
      },
      "source": [
        "#model"
      ]
    },
    {
      "cell_type": "code",
      "metadata": {
        "id": "TyfbTcIexFc4"
      },
      "source": [
        "model = keras.models.Sequential()\r\n",
        "model.add(keras.layers.Flatten(input_shape=[28,28]))\r\n",
        "model.add(keras.layers.Dense(300, activation='relu'))\r\n",
        "model.add(keras.layers.Dense(100, activation='relu'))\r\n",
        "model.add(keras.layers.Dense(10, activation='softmax'))\r\n"
      ],
      "execution_count": 13,
      "outputs": []
    },
    {
      "cell_type": "code",
      "metadata": {
        "colab": {
          "base_uri": "https://localhost:8080/"
        },
        "id": "dYASH9cQyXiN",
        "outputId": "10048923-9f9d-4637-fcf9-4ec6cd101f47"
      },
      "source": [
        "model.summary()\r\n"
      ],
      "execution_count": 14,
      "outputs": [
        {
          "output_type": "stream",
          "text": [
            "Model: \"sequential\"\n",
            "_________________________________________________________________\n",
            "Layer (type)                 Output Shape              Param #   \n",
            "=================================================================\n",
            "flatten (Flatten)            (None, 784)               0         \n",
            "_________________________________________________________________\n",
            "dense (Dense)                (None, 300)               235500    \n",
            "_________________________________________________________________\n",
            "dense_1 (Dense)              (None, 100)               30100     \n",
            "_________________________________________________________________\n",
            "dense_2 (Dense)              (None, 10)                1010      \n",
            "=================================================================\n",
            "Total params: 266,610\n",
            "Trainable params: 266,610\n",
            "Non-trainable params: 0\n",
            "_________________________________________________________________\n"
          ],
          "name": "stdout"
        }
      ]
    },
    {
      "cell_type": "code",
      "metadata": {
        "colab": {
          "base_uri": "https://localhost:8080/"
        },
        "id": "GHacxYPDyjEU",
        "outputId": "78ec273b-00d7-4098-c052-6e00ff3a376e"
      },
      "source": [
        "model.layers\r\n"
      ],
      "execution_count": 15,
      "outputs": [
        {
          "output_type": "execute_result",
          "data": {
            "text/plain": [
              "[<tensorflow.python.keras.layers.core.Flatten at 0x7feeaa8debe0>,\n",
              " <tensorflow.python.keras.layers.core.Dense at 0x7feeaa859f28>,\n",
              " <tensorflow.python.keras.layers.core.Dense at 0x7feeaa8596a0>,\n",
              " <tensorflow.python.keras.layers.core.Dense at 0x7fee522ad208>]"
            ]
          },
          "metadata": {
            "tags": []
          },
          "execution_count": 15
        }
      ]
    },
    {
      "cell_type": "code",
      "metadata": {
        "id": "RCqzWUwmzOoH"
      },
      "source": [
        "model.compile(loss='sparse_categorical_crossentropy',\r\n",
        "              optimizer='sgd',\r\n",
        "              metrics=['accuracy'])"
      ],
      "execution_count": 18,
      "outputs": []
    },
    {
      "cell_type": "code",
      "metadata": {
        "colab": {
          "base_uri": "https://localhost:8080/"
        },
        "id": "LgE9wNV6zu2p",
        "outputId": "1a143916-cc17-44c0-9e31-d1b292604262"
      },
      "source": [
        "history = model.fit(X_train, y_train, epochs=100,\r\n",
        "                    validation_data=(X_valid, y_valid))"
      ],
      "execution_count": 19,
      "outputs": [
        {
          "output_type": "stream",
          "text": [
            "Epoch 1/100\n",
            "1719/1719 [==============================] - 5s 2ms/step - loss: 1.0078 - accuracy: 0.6733 - val_loss: 0.5840 - val_accuracy: 0.7880\n",
            "Epoch 2/100\n",
            "1719/1719 [==============================] - 3s 2ms/step - loss: 0.5123 - accuracy: 0.8236 - val_loss: 0.5075 - val_accuracy: 0.8088\n",
            "Epoch 3/100\n",
            "1719/1719 [==============================] - 3s 2ms/step - loss: 0.4539 - accuracy: 0.8433 - val_loss: 0.4069 - val_accuracy: 0.8636\n",
            "Epoch 4/100\n",
            "1719/1719 [==============================] - 3s 2ms/step - loss: 0.4181 - accuracy: 0.8533 - val_loss: 0.4066 - val_accuracy: 0.8612\n",
            "Epoch 5/100\n",
            "1719/1719 [==============================] - 3s 2ms/step - loss: 0.4004 - accuracy: 0.8619 - val_loss: 0.3974 - val_accuracy: 0.8612\n",
            "Epoch 6/100\n",
            "1719/1719 [==============================] - 3s 2ms/step - loss: 0.3782 - accuracy: 0.8668 - val_loss: 0.4104 - val_accuracy: 0.8524\n",
            "Epoch 7/100\n",
            "1719/1719 [==============================] - 3s 2ms/step - loss: 0.3698 - accuracy: 0.8707 - val_loss: 0.3584 - val_accuracy: 0.8742\n",
            "Epoch 8/100\n",
            "1719/1719 [==============================] - 3s 2ms/step - loss: 0.3550 - accuracy: 0.8758 - val_loss: 0.3666 - val_accuracy: 0.8698\n",
            "Epoch 9/100\n",
            "1719/1719 [==============================] - 3s 2ms/step - loss: 0.3465 - accuracy: 0.8778 - val_loss: 0.3536 - val_accuracy: 0.8736\n",
            "Epoch 10/100\n",
            "1719/1719 [==============================] - 3s 2ms/step - loss: 0.3364 - accuracy: 0.8807 - val_loss: 0.3434 - val_accuracy: 0.8800\n",
            "Epoch 11/100\n",
            "1719/1719 [==============================] - 3s 2ms/step - loss: 0.3303 - accuracy: 0.8827 - val_loss: 0.3424 - val_accuracy: 0.8810\n",
            "Epoch 12/100\n",
            "1719/1719 [==============================] - 3s 2ms/step - loss: 0.3196 - accuracy: 0.8863 - val_loss: 0.3427 - val_accuracy: 0.8796\n",
            "Epoch 13/100\n",
            "1719/1719 [==============================] - 3s 2ms/step - loss: 0.3078 - accuracy: 0.8909 - val_loss: 0.3331 - val_accuracy: 0.8806\n",
            "Epoch 14/100\n",
            "1719/1719 [==============================] - 3s 2ms/step - loss: 0.3018 - accuracy: 0.8909 - val_loss: 0.3293 - val_accuracy: 0.8808\n",
            "Epoch 15/100\n",
            "1719/1719 [==============================] - 3s 2ms/step - loss: 0.3016 - accuracy: 0.8932 - val_loss: 0.3246 - val_accuracy: 0.8828\n",
            "Epoch 16/100\n",
            "1719/1719 [==============================] - 3s 2ms/step - loss: 0.2860 - accuracy: 0.8976 - val_loss: 0.3141 - val_accuracy: 0.8878\n",
            "Epoch 17/100\n",
            "1719/1719 [==============================] - 3s 2ms/step - loss: 0.2889 - accuracy: 0.8989 - val_loss: 0.3551 - val_accuracy: 0.8728\n",
            "Epoch 18/100\n",
            "1719/1719 [==============================] - 3s 2ms/step - loss: 0.2825 - accuracy: 0.8977 - val_loss: 0.3141 - val_accuracy: 0.8856\n",
            "Epoch 19/100\n",
            "1719/1719 [==============================] - 3s 2ms/step - loss: 0.2761 - accuracy: 0.9011 - val_loss: 0.3082 - val_accuracy: 0.8888\n",
            "Epoch 20/100\n",
            "1719/1719 [==============================] - 3s 2ms/step - loss: 0.2729 - accuracy: 0.9026 - val_loss: 0.3224 - val_accuracy: 0.8826\n",
            "Epoch 21/100\n",
            "1719/1719 [==============================] - 3s 2ms/step - loss: 0.2679 - accuracy: 0.9033 - val_loss: 0.3155 - val_accuracy: 0.8852\n",
            "Epoch 22/100\n",
            "1719/1719 [==============================] - 3s 2ms/step - loss: 0.2601 - accuracy: 0.9062 - val_loss: 0.3171 - val_accuracy: 0.8870\n",
            "Epoch 23/100\n",
            "1719/1719 [==============================] - 3s 2ms/step - loss: 0.2543 - accuracy: 0.9067 - val_loss: 0.3109 - val_accuracy: 0.8888\n",
            "Epoch 24/100\n",
            "1719/1719 [==============================] - 3s 2ms/step - loss: 0.2525 - accuracy: 0.9095 - val_loss: 0.3036 - val_accuracy: 0.8892\n",
            "Epoch 25/100\n",
            "1719/1719 [==============================] - 3s 2ms/step - loss: 0.2452 - accuracy: 0.9107 - val_loss: 0.3289 - val_accuracy: 0.8822\n",
            "Epoch 26/100\n",
            "1719/1719 [==============================] - 4s 2ms/step - loss: 0.2432 - accuracy: 0.9105 - val_loss: 0.2983 - val_accuracy: 0.8914\n",
            "Epoch 27/100\n",
            "1719/1719 [==============================] - 3s 2ms/step - loss: 0.2350 - accuracy: 0.9151 - val_loss: 0.2969 - val_accuracy: 0.8932\n",
            "Epoch 28/100\n",
            "1719/1719 [==============================] - 3s 2ms/step - loss: 0.2341 - accuracy: 0.9154 - val_loss: 0.3136 - val_accuracy: 0.8900\n",
            "Epoch 29/100\n",
            "1719/1719 [==============================] - 3s 2ms/step - loss: 0.2286 - accuracy: 0.9164 - val_loss: 0.3172 - val_accuracy: 0.8898\n",
            "Epoch 30/100\n",
            "1719/1719 [==============================] - 3s 2ms/step - loss: 0.2310 - accuracy: 0.9176 - val_loss: 0.3049 - val_accuracy: 0.8880\n",
            "Epoch 31/100\n",
            "1719/1719 [==============================] - 3s 2ms/step - loss: 0.2260 - accuracy: 0.9184 - val_loss: 0.3056 - val_accuracy: 0.8936\n",
            "Epoch 32/100\n",
            "1719/1719 [==============================] - 3s 2ms/step - loss: 0.2187 - accuracy: 0.9222 - val_loss: 0.2983 - val_accuracy: 0.8904\n",
            "Epoch 33/100\n",
            "1719/1719 [==============================] - 3s 2ms/step - loss: 0.2159 - accuracy: 0.9217 - val_loss: 0.3014 - val_accuracy: 0.8906\n",
            "Epoch 34/100\n",
            "1719/1719 [==============================] - 3s 2ms/step - loss: 0.2110 - accuracy: 0.9244 - val_loss: 0.2941 - val_accuracy: 0.8938\n",
            "Epoch 35/100\n",
            "1719/1719 [==============================] - 3s 2ms/step - loss: 0.2073 - accuracy: 0.9261 - val_loss: 0.3061 - val_accuracy: 0.8920\n",
            "Epoch 36/100\n",
            "1719/1719 [==============================] - 3s 2ms/step - loss: 0.2072 - accuracy: 0.9266 - val_loss: 0.2972 - val_accuracy: 0.8952\n",
            "Epoch 37/100\n",
            "1719/1719 [==============================] - 3s 2ms/step - loss: 0.2010 - accuracy: 0.9289 - val_loss: 0.3064 - val_accuracy: 0.8908\n",
            "Epoch 38/100\n",
            "1719/1719 [==============================] - 3s 2ms/step - loss: 0.1931 - accuracy: 0.9315 - val_loss: 0.2931 - val_accuracy: 0.8964\n",
            "Epoch 39/100\n",
            "1719/1719 [==============================] - 3s 2ms/step - loss: 0.1983 - accuracy: 0.9280 - val_loss: 0.3013 - val_accuracy: 0.8958\n",
            "Epoch 40/100\n",
            "1719/1719 [==============================] - 3s 2ms/step - loss: 0.1936 - accuracy: 0.9296 - val_loss: 0.2950 - val_accuracy: 0.8994\n",
            "Epoch 41/100\n",
            "1719/1719 [==============================] - 3s 2ms/step - loss: 0.1871 - accuracy: 0.9337 - val_loss: 0.3165 - val_accuracy: 0.8884\n",
            "Epoch 42/100\n",
            "1719/1719 [==============================] - 3s 2ms/step - loss: 0.1840 - accuracy: 0.9349 - val_loss: 0.2941 - val_accuracy: 0.8992\n",
            "Epoch 43/100\n",
            "1719/1719 [==============================] - 3s 2ms/step - loss: 0.1847 - accuracy: 0.9346 - val_loss: 0.2935 - val_accuracy: 0.8970\n",
            "Epoch 44/100\n",
            "1719/1719 [==============================] - 3s 2ms/step - loss: 0.1823 - accuracy: 0.9336 - val_loss: 0.3229 - val_accuracy: 0.8860\n",
            "Epoch 45/100\n",
            "1719/1719 [==============================] - 3s 2ms/step - loss: 0.1762 - accuracy: 0.9371 - val_loss: 0.2948 - val_accuracy: 0.8952\n",
            "Epoch 46/100\n",
            "1719/1719 [==============================] - 3s 2ms/step - loss: 0.1763 - accuracy: 0.9378 - val_loss: 0.2932 - val_accuracy: 0.8966\n",
            "Epoch 47/100\n",
            "1719/1719 [==============================] - 3s 2ms/step - loss: 0.1753 - accuracy: 0.9369 - val_loss: 0.2954 - val_accuracy: 0.8962\n",
            "Epoch 48/100\n",
            "1719/1719 [==============================] - 3s 2ms/step - loss: 0.1683 - accuracy: 0.9393 - val_loss: 0.2937 - val_accuracy: 0.8986\n",
            "Epoch 49/100\n",
            "1719/1719 [==============================] - 3s 2ms/step - loss: 0.1676 - accuracy: 0.9404 - val_loss: 0.3016 - val_accuracy: 0.8964\n",
            "Epoch 50/100\n",
            "1719/1719 [==============================] - 3s 2ms/step - loss: 0.1648 - accuracy: 0.9409 - val_loss: 0.2962 - val_accuracy: 0.8978\n",
            "Epoch 51/100\n",
            "1719/1719 [==============================] - 3s 2ms/step - loss: 0.1581 - accuracy: 0.9442 - val_loss: 0.2953 - val_accuracy: 0.8962\n",
            "Epoch 52/100\n",
            "1719/1719 [==============================] - 3s 2ms/step - loss: 0.1544 - accuracy: 0.9455 - val_loss: 0.3174 - val_accuracy: 0.8904\n",
            "Epoch 53/100\n",
            "1719/1719 [==============================] - 3s 2ms/step - loss: 0.1589 - accuracy: 0.9441 - val_loss: 0.2965 - val_accuracy: 0.8984\n",
            "Epoch 54/100\n",
            "1719/1719 [==============================] - 3s 2ms/step - loss: 0.1532 - accuracy: 0.9463 - val_loss: 0.3087 - val_accuracy: 0.8972\n",
            "Epoch 55/100\n",
            "1719/1719 [==============================] - 3s 2ms/step - loss: 0.1481 - accuracy: 0.9468 - val_loss: 0.3086 - val_accuracy: 0.8978\n",
            "Epoch 56/100\n",
            "1719/1719 [==============================] - 3s 2ms/step - loss: 0.1501 - accuracy: 0.9476 - val_loss: 0.3005 - val_accuracy: 0.9004\n",
            "Epoch 57/100\n",
            "1719/1719 [==============================] - 3s 2ms/step - loss: 0.1459 - accuracy: 0.9481 - val_loss: 0.2978 - val_accuracy: 0.8992\n",
            "Epoch 58/100\n",
            "1719/1719 [==============================] - 3s 2ms/step - loss: 0.1452 - accuracy: 0.9490 - val_loss: 0.3077 - val_accuracy: 0.8948\n",
            "Epoch 59/100\n",
            "1719/1719 [==============================] - 3s 2ms/step - loss: 0.1414 - accuracy: 0.9502 - val_loss: 0.3237 - val_accuracy: 0.8922\n",
            "Epoch 60/100\n",
            "1719/1719 [==============================] - 3s 2ms/step - loss: 0.1375 - accuracy: 0.9508 - val_loss: 0.3047 - val_accuracy: 0.8992\n",
            "Epoch 61/100\n",
            "1719/1719 [==============================] - 3s 2ms/step - loss: 0.1379 - accuracy: 0.9505 - val_loss: 0.3039 - val_accuracy: 0.8972\n",
            "Epoch 62/100\n",
            "1719/1719 [==============================] - 3s 2ms/step - loss: 0.1312 - accuracy: 0.9542 - val_loss: 0.2948 - val_accuracy: 0.8968\n",
            "Epoch 63/100\n",
            "1719/1719 [==============================] - 3s 2ms/step - loss: 0.1338 - accuracy: 0.9531 - val_loss: 0.3051 - val_accuracy: 0.9034\n",
            "Epoch 64/100\n",
            "1719/1719 [==============================] - 3s 2ms/step - loss: 0.1308 - accuracy: 0.9539 - val_loss: 0.3072 - val_accuracy: 0.8984\n",
            "Epoch 65/100\n",
            "1719/1719 [==============================] - 3s 2ms/step - loss: 0.1258 - accuracy: 0.9552 - val_loss: 0.3186 - val_accuracy: 0.8946\n",
            "Epoch 66/100\n",
            "1719/1719 [==============================] - 3s 2ms/step - loss: 0.1258 - accuracy: 0.9563 - val_loss: 0.3164 - val_accuracy: 0.8962\n",
            "Epoch 67/100\n",
            "1719/1719 [==============================] - 3s 2ms/step - loss: 0.1208 - accuracy: 0.9583 - val_loss: 0.3197 - val_accuracy: 0.8970\n",
            "Epoch 68/100\n",
            "1719/1719 [==============================] - 3s 2ms/step - loss: 0.1183 - accuracy: 0.9587 - val_loss: 0.3426 - val_accuracy: 0.8902\n",
            "Epoch 69/100\n",
            "1719/1719 [==============================] - 3s 2ms/step - loss: 0.1187 - accuracy: 0.9585 - val_loss: 0.3052 - val_accuracy: 0.9002\n",
            "Epoch 70/100\n",
            "1719/1719 [==============================] - 3s 2ms/step - loss: 0.1135 - accuracy: 0.9599 - val_loss: 0.3079 - val_accuracy: 0.8998\n",
            "Epoch 71/100\n",
            "1719/1719 [==============================] - 3s 2ms/step - loss: 0.1147 - accuracy: 0.9603 - val_loss: 0.3093 - val_accuracy: 0.9000\n",
            "Epoch 72/100\n",
            "1719/1719 [==============================] - 3s 2ms/step - loss: 0.1138 - accuracy: 0.9596 - val_loss: 0.3046 - val_accuracy: 0.9010\n",
            "Epoch 73/100\n",
            "1719/1719 [==============================] - 3s 2ms/step - loss: 0.1131 - accuracy: 0.9603 - val_loss: 0.3196 - val_accuracy: 0.8992\n",
            "Epoch 74/100\n",
            "1719/1719 [==============================] - 3s 2ms/step - loss: 0.1094 - accuracy: 0.9613 - val_loss: 0.3269 - val_accuracy: 0.8934\n",
            "Epoch 75/100\n",
            "1719/1719 [==============================] - 3s 2ms/step - loss: 0.1086 - accuracy: 0.9613 - val_loss: 0.3178 - val_accuracy: 0.8970\n",
            "Epoch 76/100\n",
            "1719/1719 [==============================] - 3s 2ms/step - loss: 0.1063 - accuracy: 0.9640 - val_loss: 0.3161 - val_accuracy: 0.9000\n",
            "Epoch 77/100\n",
            "1719/1719 [==============================] - 3s 2ms/step - loss: 0.1062 - accuracy: 0.9632 - val_loss: 0.4370 - val_accuracy: 0.8654\n",
            "Epoch 78/100\n",
            "1719/1719 [==============================] - 3s 2ms/step - loss: 0.1061 - accuracy: 0.9633 - val_loss: 0.3240 - val_accuracy: 0.8968\n",
            "Epoch 79/100\n",
            "1719/1719 [==============================] - 3s 2ms/step - loss: 0.1022 - accuracy: 0.9643 - val_loss: 0.3216 - val_accuracy: 0.9028\n",
            "Epoch 80/100\n",
            "1719/1719 [==============================] - 3s 2ms/step - loss: 0.0996 - accuracy: 0.9653 - val_loss: 0.3342 - val_accuracy: 0.8972\n",
            "Epoch 81/100\n",
            "1719/1719 [==============================] - 3s 2ms/step - loss: 0.0937 - accuracy: 0.9680 - val_loss: 0.3511 - val_accuracy: 0.8892\n",
            "Epoch 82/100\n",
            "1719/1719 [==============================] - 3s 2ms/step - loss: 0.0972 - accuracy: 0.9663 - val_loss: 0.3396 - val_accuracy: 0.8952\n",
            "Epoch 83/100\n",
            "1719/1719 [==============================] - 3s 2ms/step - loss: 0.0942 - accuracy: 0.9674 - val_loss: 0.3354 - val_accuracy: 0.8966\n",
            "Epoch 84/100\n",
            "1719/1719 [==============================] - 3s 2ms/step - loss: 0.0891 - accuracy: 0.9691 - val_loss: 0.3363 - val_accuracy: 0.9018\n",
            "Epoch 85/100\n",
            "1719/1719 [==============================] - 3s 2ms/step - loss: 0.0907 - accuracy: 0.9691 - val_loss: 0.3447 - val_accuracy: 0.9018\n",
            "Epoch 86/100\n",
            "1719/1719 [==============================] - 3s 2ms/step - loss: 0.0904 - accuracy: 0.9683 - val_loss: 0.3643 - val_accuracy: 0.8958\n",
            "Epoch 87/100\n",
            "1719/1719 [==============================] - 3s 2ms/step - loss: 0.0869 - accuracy: 0.9709 - val_loss: 0.3799 - val_accuracy: 0.8898\n",
            "Epoch 88/100\n",
            "1719/1719 [==============================] - 3s 2ms/step - loss: 0.0873 - accuracy: 0.9706 - val_loss: 0.3540 - val_accuracy: 0.8960\n",
            "Epoch 89/100\n",
            "1719/1719 [==============================] - 3s 2ms/step - loss: 0.0822 - accuracy: 0.9726 - val_loss: 0.3666 - val_accuracy: 0.9000\n",
            "Epoch 90/100\n",
            "1719/1719 [==============================] - 3s 2ms/step - loss: 0.0820 - accuracy: 0.9737 - val_loss: 0.3400 - val_accuracy: 0.9020\n",
            "Epoch 91/100\n",
            "1719/1719 [==============================] - 3s 2ms/step - loss: 0.0811 - accuracy: 0.9724 - val_loss: 0.3639 - val_accuracy: 0.8934\n",
            "Epoch 92/100\n",
            "1719/1719 [==============================] - 3s 2ms/step - loss: 0.0813 - accuracy: 0.9721 - val_loss: 0.3796 - val_accuracy: 0.8928\n",
            "Epoch 93/100\n",
            "1719/1719 [==============================] - 3s 2ms/step - loss: 0.0782 - accuracy: 0.9739 - val_loss: 0.4197 - val_accuracy: 0.8886\n",
            "Epoch 94/100\n",
            "1719/1719 [==============================] - 3s 2ms/step - loss: 0.0784 - accuracy: 0.9728 - val_loss: 0.3433 - val_accuracy: 0.8998\n",
            "Epoch 95/100\n",
            "1719/1719 [==============================] - 3s 2ms/step - loss: 0.0759 - accuracy: 0.9753 - val_loss: 0.3496 - val_accuracy: 0.8974\n",
            "Epoch 96/100\n",
            "1719/1719 [==============================] - 3s 2ms/step - loss: 0.0730 - accuracy: 0.9768 - val_loss: 0.3546 - val_accuracy: 0.8992\n",
            "Epoch 97/100\n",
            "1719/1719 [==============================] - 3s 2ms/step - loss: 0.0751 - accuracy: 0.9734 - val_loss: 0.3507 - val_accuracy: 0.9006\n",
            "Epoch 98/100\n",
            "1719/1719 [==============================] - 3s 2ms/step - loss: 0.0723 - accuracy: 0.9759 - val_loss: 0.3671 - val_accuracy: 0.8986\n",
            "Epoch 99/100\n",
            "1719/1719 [==============================] - 3s 2ms/step - loss: 0.0732 - accuracy: 0.9760 - val_loss: 0.4036 - val_accuracy: 0.8906\n",
            "Epoch 100/100\n",
            "1719/1719 [==============================] - 3s 2ms/step - loss: 0.0663 - accuracy: 0.9788 - val_loss: 0.3669 - val_accuracy: 0.8974\n"
          ],
          "name": "stdout"
        }
      ]
    },
    {
      "cell_type": "code",
      "metadata": {
        "colab": {
          "base_uri": "https://localhost:8080/",
          "height": 337
        },
        "id": "s-W_XD9r0YEq",
        "outputId": "291f0ddf-9cc1-4b4b-d639-9070c3dc821b"
      },
      "source": [
        "pd.DataFrame(history.history).plot(figsize=(8, 5))"
      ],
      "execution_count": 20,
      "outputs": [
        {
          "output_type": "execute_result",
          "data": {
            "text/plain": [
              "<matplotlib.axes._subplots.AxesSubplot at 0x7feeaa808e48>"
            ]
          },
          "metadata": {
            "tags": []
          },
          "execution_count": 20
        },
        {
          "output_type": "display_data",
          "data": {
            "image/png": "[encoded data removed]",
            "text/plain": [
              "<Figure size 576x360 with 1 Axes>"
            ]
          },
          "metadata": {
            "tags": [],
            "needs_background": "light"
          }
        }
      ]
    },
    {
      "cell_type": "code",
      "metadata": {
        "colab": {
          "base_uri": "https://localhost:8080/",
          "height": 269
        },
        "id": "jRW2rsmP0sBY",
        "outputId": "d6dba754-5bdb-433c-be53-e6cdb9f0a241"
      },
      "source": [
        "plt.grid(True)\r\n",
        "plt.gca().set_ylim(0, 1)\r\n",
        "plt.show()"
      ],
      "execution_count": 21,
      "outputs": [
        {
          "output_type": "display_data",
          "data": {
            "image/png": "[encoded data removed]",
            "text/plain": [
              "<Figure size 432x288 with 1 Axes>"
            ]
          },
          "metadata": {
            "tags": [],
            "needs_background": "light"
          }
        }
      ]
    }
  ]
}